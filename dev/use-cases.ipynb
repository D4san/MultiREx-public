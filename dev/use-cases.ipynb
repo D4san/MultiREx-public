{
 "cells": [
  {
   "cell_type": "markdown",
   "metadata": {},
   "source": [
    "# MultiREx - Quickstart\n",
    "#### Planetary transmission spectra generator\n",
    "##### [GitHub Repository](https://github.com/D4san/MultiREx-public)"
   ]
  },
  {
   "cell_type": "code",
   "execution_count": 2,
   "metadata": {},
   "outputs": [
    {
     "name": "stdout",
     "output_type": "stream",
     "text": [
      "Loading MultiREx version 0.1.5\n"
     ]
    }
   ],
   "source": [
    "import multirex as mrex"
   ]
  },
  {
   "cell_type": "markdown",
   "metadata": {},
   "source": [
    "### To Do "
   ]
  },
  {
   "cell_type": "markdown",
   "metadata": {},
   "source": [
    "Here, we want to show the features we should include in future versions of `MultiREx`:"
   ]
  },
  {
   "cell_type": "markdown",
   "metadata": {},
   "source": [
    "#### Avanced generators "
   ]
  },
  {
   "cell_type": "markdown",
   "metadata": {},
   "source": [
    "In the present version (0.2.x), we generate system by randomly choose values from a given range. For instance:"
   ]
  },
  {
   "cell_type": "code",
   "execution_count": 3,
   "metadata": {},
   "outputs": [],
   "source": [
    "system=mrex.System(\n",
    "    star=mrex.Star(\n",
    "        temperature=(4000,6000),\n",
    "        radius=(0.5,1.5),\n",
    "        mass=(0.8,1.2),\n",
    "    ),\n",
    "    planet=mrex.Planet(\n",
    "        radius=(0.5,1.5),\n",
    "        mass=(0.8,1.2),\n",
    "        atmosphere=mrex.Atmosphere(\n",
    "            temperature=(290,310), # in K\n",
    "            base_pressure=(1e5,10e5), # in Pa\n",
    "            top_pressure=(1,10), # in Pa\n",
    "            fill_gas=\"N2\", # the gas that fills the atmosphere\n",
    "            composition=dict(\n",
    "                CO2=(-5,-4), # This is the log10(mix-ratio)\n",
    "                CH4=(-6,-5),\n",
    "            )\n",
    "        )\n",
    "    ),\n",
    "    sma=(0.5,1)\n",
    ")"
   ]
  },
  {
   "cell_type": "markdown",
   "metadata": {},
   "source": [
    "But it assumes that the parameters are physically and statistically independent which is obviously untrue. We may think about three type of relationship among the parameters:\n",
    "\n",
    "- **Independence**: parameters are completely independent of other parameters. \n",
    "  - *Example*: Almost any property is completely independent but we can assume absolute independence.\n",
    "  - *Specification*: In this case the specification can be provided as a number, as a range (tuple) or as a list. \n",
    "\n",
    "- **Combinatorial dependence**: we want that parameters be combined using specific combinations.\n",
    "  - *Example*: Let's suppose that we want to create combinations of stellar masses [0.8,1.0,1.2] and planetary masses [1,5]. Combinatorial relationship means that we want to test all combinations in the cartesian product of this list of values: [0.8,1.0,1.2] x [1,5] = (0.8,1), (0.8,5), (1.0,1), etc.\n",
    "  - *Specification*: In this case the values should be provided as a list.\n",
    "\n",
    "- **Physical dependence**: when one parameter depend on other parameters due to a physical law.\n",
    "  - *Example*: Stellar mass and stellar radius are physically dependent for main sequence stars.\n",
    "  - *Specification*: In that case one have to provide a function to obtain a property from other properties with which it is related.\n",
    "\n",
    "- **Statistical dependence**: when the dependency arises from correlations.\n",
    "  - *Example*: It is hard to find an example, but let's assume that it has been observed that low mass stars, tend to have low mass planets. This is a statistical correlation.\n",
    "  - *Specification*: A statistical dependence is specified by a covariance matrix."
   ]
  },
  {
   "cell_type": "markdown",
   "metadata": {},
   "source": [
    "This simple case before correspond to that when all parameters are completely independent. But what happen if we want to study many systems changin the mass of the star which is physically dependent on the radius of the star. The command should be:"
   ]
  },
  {
   "cell_type": "code",
   "execution_count": 6,
   "metadata": {},
   "outputs": [],
   "source": [
    "def temperature_from_mass(system):\n",
    "    mass = system.star.mass\n",
    "    return 5000*mass\n",
    "\n",
    "def radius_from_mass(system):\n",
    "    mass = system.star.mass\n",
    "    return 1.2*mass\n",
    "\n",
    "system=mrex.System(\n",
    "    star=mrex.Star(\n",
    "        mass=(0.8,1.2),\n",
    "        temperature=dict(value=None,func=temperature_from_mass),\n",
    "        radius=dict(value=None,func=radius_from_mass),\n",
    "    ),\n",
    "    planet=mrex.Planet(\n",
    "        radius=1.0,\n",
    "        mass=1.0,\n",
    "        atmosphere=mrex.Atmosphere(\n",
    "            temperature=290, # in K\n",
    "            base_pressure=1e5, # in Pa\n",
    "            top_pressure=1, # in Pa\n",
    "            fill_gas=\"N2\", # the gas that fills the atmosphere\n",
    "            composition=dict(\n",
    "                CO2=-4, # This is the log10(mix-ratio)\n",
    "                CH4=-6,\n",
    "            )\n",
    "        )\n",
    "    ),\n",
    "    sma=(0.5,1)\n",
    ")"
   ]
  },
  {
   "cell_type": "markdown",
   "metadata": {},
   "source": [
    "In this case the system should use the routine `temperature_from_mass` and `radius_from_mass` for generating the property."
   ]
  },
  {
   "cell_type": "markdown",
   "metadata": {},
   "source": [
    "In the case of statistical dependence:"
   ]
  },
  {
   "cell_type": "code",
   "execution_count": null,
   "metadata": {},
   "outputs": [],
   "source": [
    "def multinormal(mus,sigmas):\n",
    "    pass\n",
    "\n",
    "mus = [0.8,1.0]\t\n",
    "sigmas = [[0.1,0.02],[0.02,0.1]]\n",
    "\n",
    "system=mrex.System(\n",
    "    star=mrex.Star(\n",
    "        mass=dict(value=(mus,sigmas),func=multinormal),\n",
    "        temperature=temperature_from_mass,\n",
    "        radius=radius_from_mass,\n",
    "    ),\n",
    "    planet=mrex.Planet(\n",
    "        mass=dict(value=(mus,sigmas),func=multinormal),\n",
    "        radius=1.0,\n",
    "        atmosphere=mrex.Atmosphere(\n",
    "            temperature=290, # in K\n",
    "            base_pressure=1e5, # in Pa\n",
    "            top_pressure=1, # in Pa\n",
    "            fill_gas=\"N2\", # the gas that fills the atmosphere\n",
    "            composition=dict(\n",
    "                CO2=-4, # This is the log10(mix-ratio)\n",
    "                CH4=-6,\n",
    "            )\n",
    "        )\n",
    "    ),\n",
    "    sma=(0.5,1)\n",
    ")"
   ]
  },
  {
   "cell_type": "markdown",
   "metadata": {},
   "source": [
    "In the case of combinatorial:"
   ]
  },
  {
   "cell_type": "code",
   "execution_count": null,
   "metadata": {},
   "outputs": [],
   "source": [
    "def combinatorial_star_planet(system):\n",
    "    star_masses = system.star._mass\n",
    "    planet_masses = system.planet._mass\n",
    "    return [star_masses[0],planet_masses[0]]\n",
    "\n",
    "system=mrex.System(\n",
    "    star=mrex.Star(\n",
    "        mass=dict(value=[0.8,1.0,1.2],func=combinatorial_star_planet),\n",
    "        temperature=temperature_from_mass,\n",
    "        radius=radius_from_mass,\n",
    "    ),\n",
    "    planet=mrex.Planet(\n",
    "        mass=dict(value=[1,5],func=combinatorial_star_planet),\n",
    "        radius=1.0,\n",
    "        atmosphere=mrex.Atmosphere(\n",
    "            temperature=290, # in K\n",
    "            base_pressure=1e5, # in Pa\n",
    "            top_pressure=1, # in Pa\n",
    "            fill_gas=\"N2\", # the gas that fills the atmosphere\n",
    "            composition=dict(\n",
    "                CO2=-4, # This is the log10(mix-ratio)\n",
    "                CH4=-6,\n",
    "            )\n",
    "        )\n",
    "    ),\n",
    "    sma=(0.5,1)\n",
    ")"
   ]
  },
  {
   "cell_type": "markdown",
   "metadata": {},
   "source": [
    "Unifying languages, this is the way to indicate independent values:"
   ]
  },
  {
   "cell_type": "code",
   "execution_count": null,
   "metadata": {},
   "outputs": [],
   "source": [
    "system=mrex.System(\n",
    "    star=mrex.Star(\n",
    "        temperature=dict(value=(4000,6000),func=None),\n",
    "        radius=dict(value=(0.5,1.5),func=None),\n",
    "        mass=dict(value=(0.8,1.2),func=None),\n",
    "    ),\n",
    "    planet=mrex.Planet(\n",
    "        radius=dict(value=(0.5,1.5),func=None),\n",
    "        mass=dict(value=(0.8,1.2),func=None),\n",
    "        atmosphere=mrex.Atmosphere(\n",
    "            temperature=dict(value=(290,310),func=None), # in K\n",
    "            base_pressure=dict(value=(1e5,10e5),func=None), # in Pa\n",
    "            top_pressure=dict(value=(1,10),func=None), # in Pa\n",
    "            fill_gas=\"N2\", # the gas that fills the atmosphere\n",
    "            composition=dict(\n",
    "                CO2=dict(value=(-5,-4),func=None), # This is the log10(mix-ratio)\n",
    "                CH4=dict(value=(-6,-5),func=None),\n",
    "            )\n",
    "        )\n",
    "    ),\n",
    "    sma=(0.5,1)\n",
    ")"
   ]
  }
 ],
 "metadata": {
  "kernelspec": {
   "display_name": "Python 3",
   "language": "python",
   "name": "python3"
  },
  "language_info": {
   "codemirror_mode": {
    "name": "ipython",
    "version": 3
   },
   "file_extension": ".py",
   "mimetype": "text/x-python",
   "name": "python",
   "nbconvert_exporter": "python",
   "pygments_lexer": "ipython3",
   "version": "3.10.12"
  }
 },
 "nbformat": 4,
 "nbformat_minor": 2
}
