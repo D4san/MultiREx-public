{
 "cells": [
  {
   "cell_type": "markdown",
   "metadata": {},
   "source": [
    "For run this code, you must be installed the POSEIDON package and the POSEIDON data required.  Please follow the instructions in the [POSEIDON documentation](https://poseidon-retrievals.readthedocs.io/en/latest/content/installation.html)."
   ]
  },
  {
   "cell_type": "code",
   "execution_count": null,
   "metadata": {},
   "outputs": [],
   "source": [
    "from POSEIDON.core import create_star\n",
    "from POSEIDON.constants import R_Sun\n",
    "from POSEIDON.stellar import stellar_contamination\n",
    "import numpy as np\n",
    "import matplotlib.pyplot as plt\n",
    "import itertools\n",
    "\n",
    "# Define stellar properties\n",
    "R_s = 0.1192 * R_Sun  # Stellar radius (m)\n",
    "T_s = 2566            # Stellar effective temperature (K)\n",
    "Met_s = 0.05          # Stellar metallicity\n",
    "log_g_s = 5.2396      # Stellar surface gravity (log g)\n",
    "\n",
    "# Spot and facula temperatures\n",
    "T_spot = 0.86 * T_s   # Spot temperature\n",
    "T_fac = T_s + 100     # Facula temperature\n",
    "\n",
    "# Coverage fractions (min, central, max)\n",
    "f_spot_values = [0.01, 0.08, 0.26]\n",
    "f_fac_values = [0.08, 0.54, 0.70]\n",
    "\n",
    "# Load wavelength data\n",
    "wl = np.loadtxt(\"waves.txt\")\n",
    "\n",
    "# Generate all combinations of f_spot and f_fac\n",
    "combinations = list(itertools.product(f_spot_values, f_fac_values))\n",
    "\n",
    "epsilon_list = []\n",
    "labels = []\n",
    "\n",
    "# Calculate stellar contamination for each combination\n",
    "for f_spot, f_fac in combinations:\n",
    "    star = create_star(\n",
    "        R_s, T_s, log_g_s, Met_s,\n",
    "        stellar_grid=\"phoenix\",\n",
    "        stellar_contam=\"two_spots\",\n",
    "        f_spot=f_spot, T_spot=T_spot,\n",
    "        f_fac=f_fac, T_fac=T_fac,\n",
    "    )\n",
    "    epsilon = stellar_contamination(star, wl)\n",
    "    epsilon_list.append(epsilon)\n",
    "\n",
    "    filename = f\"TRAPPIST-1_contam_fspot{f_spot}_ffac{f_fac}.txt\"\n",
    "    np.savetxt(filename, np.column_stack((wl, epsilon)))\n",
    "\n",
    "    labels.append(f\"f_spot={f_spot}, f_fac={f_fac}\")\n",
    "\n",
    "# Plot the stellar contaminations\n",
    "plt.figure(figsize=(12, 8))\n",
    "for epsilon, label in zip(epsilon_list, labels):\n",
    "    plt.plot(wl, epsilon, label=label)\n",
    "\n",
    "plt.xlabel(\"Longitud de onda (μm)\")\n",
    "plt.ylabel(\"Contaminación estelar ε\")\n",
    "plt.title(\"Contaminación estelar para diferentes fracciones de cobertura\")\n",
    "plt.legend()\n",
    "plt.show()"
   ]
  },
  {
   "cell_type": "code",
   "execution_count": null,
   "metadata": {},
   "outputs": [],
   "source": []
  }
 ],
 "metadata": {
  "kernelspec": {
   "display_name": "POSEIDON",
   "language": "python",
   "name": "python3"
  },
  "language_info": {
   "codemirror_mode": {
    "name": "ipython",
    "version": 3
   },
   "file_extension": ".py",
   "mimetype": "text/x-python",
   "name": "python",
   "nbconvert_exporter": "python",
   "pygments_lexer": "ipython3",
   "version": "3.9.19"
  }
 },
 "nbformat": 4,
 "nbformat_minor": 2
}
