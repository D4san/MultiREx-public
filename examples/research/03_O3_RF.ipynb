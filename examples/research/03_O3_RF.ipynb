{
 "cells": [
  {
   "cell_type": "markdown",
   "metadata": {},
   "source": [
    "## Spectra generation\n"
   ]
  },
  {
   "cell_type": "code",
   "execution_count": 1,
   "metadata": {},
   "outputs": [],
   "source": [
    "import multirex as mrex\n",
    "import matplotlib.pyplot as plt\n",
    "import numpy as np\n",
    "import sys\n",
    "import pandas as pd\n",
    "from tqdm import tqdm\n",
    "import seaborn as sns\n",
    "import joblib\n",
    "import ast\n",
    "import matplotlib.pyplot as plt\n",
    "import matplotlib.ticker as ticker\n",
    "import warnings\n",
    "from sklearn.exceptions import DataConversionWarning\n",
    "\n",
    "\n",
    "from sklearn.model_selection import train_test_split\n",
    "from sklearn.ensemble import RandomForestClassifier\n",
    "from sklearn.metrics import accuracy_score\n",
    "from sklearn.metrics import confusion_matrix\n",
    "from sklearn.metrics import  ConfusionMatrixDisplay\n",
    "from sklearn.metrics import classification_report\n",
    "from sklearn.metrics import accuracy_score, f1_score, recall_score, precision_score\n",
    "\n",
    "%matplotlib inline\n",
    "waves=np.loadtxt(\"waves.txt\")\n",
    "n_points = len(waves)"
   ]
  },
  {
   "cell_type": "code",
   "execution_count": 2,
   "metadata": {},
   "outputs": [
    {
     "name": "stderr",
     "output_type": "stream",
     "text": [
      "C:\\Users\\santi\\AppData\\Local\\Temp\\ipykernel_13760\\1644516167.py:7: UserWarning: Pandas doesn't allow columns to be created via a new attribute name - see https://pandas.pydata.org/pandas-docs/stable/indexing.html#attribute-access\n",
      "  CO2_data.data = CO2_data.iloc[:,-n_points:]\n",
      "C:\\Users\\santi\\AppData\\Local\\Temp\\ipykernel_13760\\1644516167.py:8: UserWarning: Pandas doesn't allow columns to be created via a new attribute name - see https://pandas.pydata.org/pandas-docs/stable/indexing.html#attribute-access\n",
      "  CO2_data.params = CO2_data.iloc[:,:-n_points]\n",
      "C:\\Users\\santi\\AppData\\Local\\Temp\\ipykernel_13760\\1644516167.py:13: UserWarning: Pandas doesn't allow columns to be created via a new attribute name - see https://pandas.pydata.org/pandas-docs/stable/indexing.html#attribute-access\n",
      "  CH4_data.data = CH4_data.iloc[:,-n_points:]\n",
      "C:\\Users\\santi\\AppData\\Local\\Temp\\ipykernel_13760\\1644516167.py:14: UserWarning: Pandas doesn't allow columns to be created via a new attribute name - see https://pandas.pydata.org/pandas-docs/stable/indexing.html#attribute-access\n",
      "  CH4_data.params = CH4_data.iloc[:,:-n_points]\n",
      "C:\\Users\\santi\\AppData\\Local\\Temp\\ipykernel_13760\\1644516167.py:19: UserWarning: Pandas doesn't allow columns to be created via a new attribute name - see https://pandas.pydata.org/pandas-docs/stable/indexing.html#attribute-access\n",
      "  O3_data.data = O3_data.iloc[:,-n_points:]\n",
      "C:\\Users\\santi\\AppData\\Local\\Temp\\ipykernel_13760\\1644516167.py:20: UserWarning: Pandas doesn't allow columns to be created via a new attribute name - see https://pandas.pydata.org/pandas-docs/stable/indexing.html#attribute-access\n",
      "  O3_data.params = O3_data.iloc[:,:-n_points]\n",
      "C:\\Users\\santi\\AppData\\Local\\Temp\\ipykernel_13760\\1644516167.py:25: UserWarning: Pandas doesn't allow columns to be created via a new attribute name - see https://pandas.pydata.org/pandas-docs/stable/indexing.html#attribute-access\n",
      "  H2O_data.data = H2O_data.iloc[:,-n_points:]\n",
      "C:\\Users\\santi\\AppData\\Local\\Temp\\ipykernel_13760\\1644516167.py:26: UserWarning: Pandas doesn't allow columns to be created via a new attribute name - see https://pandas.pydata.org/pandas-docs/stable/indexing.html#attribute-access\n",
      "  H2O_data.params = H2O_data.iloc[:,:-n_points]\n",
      "C:\\Users\\santi\\AppData\\Local\\Temp\\ipykernel_13760\\1644516167.py:31: UserWarning: Pandas doesn't allow columns to be created via a new attribute name - see https://pandas.pydata.org/pandas-docs/stable/indexing.html#attribute-access\n",
      "  CH4_O3_data.data = CH4_O3_data.iloc[:,-n_points:]\n",
      "C:\\Users\\santi\\AppData\\Local\\Temp\\ipykernel_13760\\1644516167.py:32: UserWarning: Pandas doesn't allow columns to be created via a new attribute name - see https://pandas.pydata.org/pandas-docs/stable/indexing.html#attribute-access\n",
      "  CH4_O3_data.params = CH4_O3_data.iloc[:,:-n_points]\n",
      "C:\\Users\\santi\\AppData\\Local\\Temp\\ipykernel_13760\\1644516167.py:38: UserWarning: Pandas doesn't allow columns to be created via a new attribute name - see https://pandas.pydata.org/pandas-docs/stable/indexing.html#attribute-access\n",
      "  CH4_H2O_data.data = CH4_H2O_data.iloc[:,-n_points:]\n",
      "C:\\Users\\santi\\AppData\\Local\\Temp\\ipykernel_13760\\1644516167.py:39: UserWarning: Pandas doesn't allow columns to be created via a new attribute name - see https://pandas.pydata.org/pandas-docs/stable/indexing.html#attribute-access\n",
      "  CH4_H2O_data.params = CH4_H2O_data.iloc[:,:-n_points]\n",
      "C:\\Users\\santi\\AppData\\Local\\Temp\\ipykernel_13760\\1644516167.py:43: UserWarning: Pandas doesn't allow columns to be created via a new attribute name - see https://pandas.pydata.org/pandas-docs/stable/indexing.html#attribute-access\n",
      "  O3_H2O_data.data = O3_H2O_data.iloc[:,-n_points:]\n",
      "C:\\Users\\santi\\AppData\\Local\\Temp\\ipykernel_13760\\1644516167.py:44: UserWarning: Pandas doesn't allow columns to be created via a new attribute name - see https://pandas.pydata.org/pandas-docs/stable/indexing.html#attribute-access\n",
      "  O3_H2O_data.params = O3_H2O_data.iloc[:,:-n_points]\n",
      "C:\\Users\\santi\\AppData\\Local\\Temp\\ipykernel_13760\\1644516167.py:49: UserWarning: Pandas doesn't allow columns to be created via a new attribute name - see https://pandas.pydata.org/pandas-docs/stable/indexing.html#attribute-access\n",
      "  CH4_O3_H2O_data.data = CH4_O3_H2O_data.iloc[:,-n_points:]\n",
      "C:\\Users\\santi\\AppData\\Local\\Temp\\ipykernel_13760\\1644516167.py:50: UserWarning: Pandas doesn't allow columns to be created via a new attribute name - see https://pandas.pydata.org/pandas-docs/stable/indexing.html#attribute-access\n",
      "  CH4_O3_H2O_data.params = CH4_O3_H2O_data.iloc[:,:-n_points]\n"
     ]
    }
   ],
   "source": [
    "def string_to_list(string):\n",
    "    return ast.literal_eval(string)\n",
    "\n",
    "CO2_data = pd.read_csv(\"spec_data/CO2_data.csv\")\n",
    "CO2_data[\"label\"] = CO2_data[\"label\"].apply(string_to_list)\n",
    "CO2_data[\"label\"] = CO2_data[\"label\"].apply(lambda x: x[1])\n",
    "CO2_data.data = CO2_data.iloc[:,-n_points:]\n",
    "CO2_data.params = CO2_data.iloc[:,:-n_points]\n",
    "\n",
    "CH4_data = pd.read_csv(\"spec_data/CH4_data.csv\")\n",
    "CH4_data[\"label\"] = CH4_data[\"label\"].apply(string_to_list)\n",
    "CH4_data[\"label\"] = CH4_data[\"label\"].apply(lambda x: x[1])\n",
    "CH4_data.data = CH4_data.iloc[:,-n_points:]\n",
    "CH4_data.params = CH4_data.iloc[:,:-n_points]\n",
    "\n",
    "O3_data = pd.read_csv(\"spec_data/O3_data.csv\")\n",
    "O3_data[\"label\"] = O3_data[\"label\"].apply(string_to_list)\n",
    "O3_data[\"label\"] = O3_data[\"label\"].apply(lambda x: x[1])\n",
    "O3_data.data = O3_data.iloc[:,-n_points:]\n",
    "O3_data.params = O3_data.iloc[:,:-n_points]\n",
    "\n",
    "H2O_data = pd.read_csv(\"spec_data/H2O_data.csv\")\n",
    "H2O_data[\"label\"] = H2O_data[\"label\"].apply(string_to_list)\n",
    "H2O_data[\"label\"] = H2O_data[\"label\"].apply(lambda x: x[1])\n",
    "H2O_data.data = H2O_data.iloc[:,-n_points:]\n",
    "H2O_data.params = H2O_data.iloc[:,:-n_points]\n",
    "\n",
    "CH4_O3_data=pd.read_csv(\"spec_data/CH4_O3_data.csv\")\n",
    "CH4_O3_data[\"label\"] = CH4_O3_data[\"label\"].apply(string_to_list)\n",
    "CH4_O3_data[\"label\"] = CH4_O3_data[\"label\"].apply(lambda x: x[1])\n",
    "CH4_O3_data.data = CH4_O3_data.iloc[:,-n_points:]\n",
    "CH4_O3_data.params = CH4_O3_data.iloc[:,:-n_points]\n",
    "\n",
    "CH4_H2O_data=pd.read_csv(\"spec_data/CH4_H2O_data.csv\")\n",
    "CH4_H2O_data[\"label\"] = CH4_H2O_data[\"label\"].apply(string_to_list)\n",
    "CH4_H2O_data[\"label\"] = CH4_H2O_data[\"label\"].apply(lambda x: x[1])\n",
    "O3_H2O_data = pd.read_csv(\"spec_data/O3_H2O_data.csv\")\n",
    "CH4_H2O_data.data = CH4_H2O_data.iloc[:,-n_points:]\n",
    "CH4_H2O_data.params = CH4_H2O_data.iloc[:,:-n_points]\n",
    "\n",
    "O3_H2O_data[\"label\"] = O3_H2O_data[\"label\"].apply(string_to_list)\n",
    "O3_H2O_data[\"label\"] = O3_H2O_data[\"label\"].apply(lambda x: x[1])\n",
    "O3_H2O_data.data = O3_H2O_data.iloc[:,-n_points:]\n",
    "O3_H2O_data.params = O3_H2O_data.iloc[:,:-n_points]\n",
    "\n",
    "CH4_O3_H2O_data = pd.read_csv(\"spec_data/CH4_O3_H2O_data.csv\")\n",
    "CH4_O3_H2O_data[\"label\"] = CH4_O3_H2O_data[\"label\"].apply(string_to_list)\n",
    "CH4_O3_H2O_data[\"label\"] = CH4_O3_H2O_data[\"label\"].apply(lambda x: x[1])\n",
    "CH4_O3_H2O_data.data = CH4_O3_H2O_data.iloc[:,-n_points:]\n",
    "CH4_O3_H2O_data.params = CH4_O3_H2O_data.iloc[:,:-n_points]"
   ]
  },
  {
   "cell_type": "code",
   "execution_count": 3,
   "metadata": {},
   "outputs": [],
   "source": [
    "def normalize_min_max_by_row(df):\n",
    "    min_by_row = df.min(axis=1)\n",
    "    max_by_row = df.max(axis=1)\n",
    "    range_by_row = max_by_row - min_by_row\n",
    "    normalized = (df.sub(min_by_row, axis=0)).div(range_by_row, axis=0)\n",
    "    normalized[range_by_row == 0] = 0\n",
    "    return normalized\n",
    "\n",
    "def plot_confusion_matrix(y_test, y_pred, labels, display_labels, title):\n",
    "    cm = confusion_matrix(y_test, y_pred, labels=labels, normalize='true')\n",
    "    fig, ax = plt.subplots(figsize=(8, 8))\n",
    "    disp = ConfusionMatrixDisplay(confusion_matrix=cm, display_labels=display_labels)\n",
    "    disp.plot(values_format=\".0%\", colorbar=True, ax=ax)\n",
    "    disp.im_.colorbar.remove()\n",
    "    disp.im_.set_clim(0, 1)\n",
    "    cbar = fig.colorbar(disp.im_, ax=ax)\n",
    "    cbar.ax.yaxis.set_major_formatter(ticker.PercentFormatter(xmax=1))\n",
    "    plt.subplots_adjust(left=0.1, right=0.9, top=0.9, bottom=0.1)\n",
    "    plt.title(title, fontsize=20)\n",
    "\n",
    "    plt.show()\n",
    "\n",
    "def remove_warnings():\n",
    "    warnings.filterwarnings(\"ignore\", category=DeprecationWarning)\n",
    "    warnings.filterwarnings(action='ignore', category=DataConversionWarning)    \n",
    "\n",
    "mix_ratios = np.logspace(-10,-1,10)\n"
   ]
  },
  {
   "cell_type": "markdown",
   "metadata": {},
   "source": [
    "## SNR =1\n",
    "\n"
   ]
  },
  {
   "cell_type": "code",
   "execution_count": 4,
   "metadata": {},
   "outputs": [
    {
     "data": {
      "text/plain": [
       "label\n",
       "0    15000\n",
       "1     7500\n",
       "Name: count, dtype: int64"
      ]
     },
     "execution_count": 4,
     "metadata": {},
     "output_type": "execute_result"
    }
   ],
   "source": [
    "SNR1_CO2 = mrex.generate_df_SNR_noise(df=CO2_data,\n",
    "                                   n_repeat=5000,\n",
    "                                   SNR=1)\n",
    "\n",
    "SNR1_O3 = mrex.generate_df_SNR_noise(df=O3_data,\n",
    "                                      n_repeat=250,\n",
    "                                      SNR=1)\n",
    "SNR1_CO2_O3 = pd.concat([SNR1_CO2,SNR1_O3],ignore_index=True)\n",
    "SNR1_CO2_O3[\"label\"].value_counts()"
   ]
  },
  {
   "cell_type": "markdown",
   "metadata": {},
   "source": [
    "## SNR =3\n",
    "\n"
   ]
  },
  {
   "cell_type": "code",
   "execution_count": 5,
   "metadata": {},
   "outputs": [
    {
     "data": {
      "text/plain": [
       "label\n",
       "0    15000\n",
       "1     7500\n",
       "Name: count, dtype: int64"
      ]
     },
     "execution_count": 5,
     "metadata": {},
     "output_type": "execute_result"
    }
   ],
   "source": [
    "SNR3_CO2 = mrex.generate_df_SNR_noise(df=CO2_data,\n",
    "                                   n_repeat=5000,\n",
    "                                   SNR=3)\n",
    "\n",
    "SNR3_O3 = mrex.generate_df_SNR_noise(df=O3_data,\n",
    "                                      n_repeat=250,\n",
    "                                      SNR=3)\n",
    "SNR3_CO2_O3 = pd.concat([SNR3_CO2,SNR3_O3],ignore_index=True)\n",
    "SNR3_CO2_O3[\"label\"].value_counts()"
   ]
  },
  {
   "cell_type": "markdown",
   "metadata": {},
   "source": [
    "## SNR= 6\n",
    "\n"
   ]
  },
  {
   "cell_type": "code",
   "execution_count": 6,
   "metadata": {},
   "outputs": [
    {
     "data": {
      "text/plain": [
       "label\n",
       "0    15000\n",
       "1    15000\n",
       "Name: count, dtype: int64"
      ]
     },
     "execution_count": 6,
     "metadata": {},
     "output_type": "execute_result"
    }
   ],
   "source": [
    "SNR6_CO2 = mrex.generate_df_SNR_noise(df=CO2_data,\n",
    "                                      n_repeat=5000,\n",
    "                                      SNR=6)\n",
    "\n",
    "SNR6_O3 = mrex.generate_df_SNR_noise(df=O3_data,\n",
    "                                     n_repeat=500,\n",
    "                                     SNR=6)\n",
    "\n",
    "SNR6_CO2_O3 = pd.concat([SNR6_CO2,SNR6_O3],ignore_index=True)\n",
    "SNR6_CO2_O3[\"label\"].value_counts()\n"
   ]
  },
  {
   "cell_type": "markdown",
   "metadata": {},
   "source": [
    "## SNR=10"
   ]
  },
  {
   "cell_type": "code",
   "execution_count": 7,
   "metadata": {},
   "outputs": [
    {
     "data": {
      "text/plain": [
       "label\n",
       "0    15000\n",
       "1    15000\n",
       "Name: count, dtype: int64"
      ]
     },
     "execution_count": 7,
     "metadata": {},
     "output_type": "execute_result"
    }
   ],
   "source": [
    "\n",
    "SNR10_CO2 = mrex.generate_df_SNR_noise(df=CO2_data,\n",
    "                                        n_repeat=5000,\n",
    "                                        SNR=10)\n",
    "SNR10_O3 = mrex.generate_df_SNR_noise(df=O3_data,\n",
    "                                        n_repeat=500,\n",
    "                                        SNR=10)\n",
    "\n",
    "SNR10_CO2_O3 = pd.concat([SNR10_CO2,SNR10_O3],ignore_index=True)\n",
    "SNR10_CO2_O3[\"label\"].value_counts()"
   ]
  },
  {
   "cell_type": "markdown",
   "metadata": {},
   "source": [
    "## SNR=20\n"
   ]
  },
  {
   "cell_type": "code",
   "execution_count": 8,
   "metadata": {},
   "outputs": [
    {
     "data": {
      "text/plain": [
       "label\n",
       "0    15000\n",
       "1    15000\n",
       "Name: count, dtype: int64"
      ]
     },
     "execution_count": 8,
     "metadata": {},
     "output_type": "execute_result"
    }
   ],
   "source": [
    "SNR20_CO2 = mrex.generate_df_SNR_noise(df=CO2_data,\n",
    "                                        n_repeat=5000,\n",
    "                                        SNR=20)\n",
    "\n",
    "SNR20_O3 = mrex.generate_df_SNR_noise(df=O3_data,\n",
    "                                        n_repeat=500,\n",
    "                                        SNR=20)\n",
    "\n",
    "SNR20_CO2_O3 = pd.concat([SNR20_CO2,SNR20_O3],ignore_index=True)\n",
    "SNR20_CO2_O3[\"label\"].value_counts()"
   ]
  },
  {
   "cell_type": "markdown",
   "metadata": {},
   "source": [
    "## SNR=Nan"
   ]
  },
  {
   "cell_type": "code",
   "execution_count": 9,
   "metadata": {},
   "outputs": [
    {
     "data": {
      "text/plain": [
       "label\n",
       "0    30000\n",
       "1    30000\n",
       "Name: count, dtype: int64"
      ]
     },
     "execution_count": 9,
     "metadata": {},
     "output_type": "execute_result"
    }
   ],
   "source": [
    "no_noise_CO2 = mrex.generate_df_SNR_noise(df=CO2_data,\n",
    "                                        n_repeat=10000,\n",
    "                                        SNR=10000)\n",
    "\n",
    "no_noise_O3 = mrex.generate_df_SNR_noise(df=O3_data,\n",
    "                                        n_repeat=1000,\n",
    "                                        SNR=10000)\n",
    "\n",
    "no_noise_CO2_O3= pd.concat([no_noise_CO2,no_noise_O3],ignore_index=True)\n",
    "\n",
    "no_noise_CO2_O3[\"label\"].value_counts()\n",
    "\n"
   ]
  },
  {
   "cell_type": "markdown",
   "metadata": {},
   "source": [
    "## All SNR\n",
    "\n"
   ]
  },
  {
   "cell_type": "code",
   "execution_count": 10,
   "metadata": {},
   "outputs": [
    {
     "data": {
      "text/plain": [
       "label\n",
       "0    105000\n",
       "1     90000\n",
       "Name: count, dtype: int64"
      ]
     },
     "execution_count": 10,
     "metadata": {},
     "output_type": "execute_result"
    }
   ],
   "source": [
    "all_SNR  = pd.concat([SNR1_CO2_O3,SNR3_CO2_O3,SNR6_CO2_O3,SNR10_CO2_O3,SNR20_CO2_O3,no_noise_CO2_O3],ignore_index=True)\n",
    "all_SNR[\"label\"].value_counts()"
   ]
  },
  {
   "cell_type": "code",
   "execution_count": 11,
   "metadata": {},
   "outputs": [],
   "source": [
    "all_SNR_train, all_SNR_test = train_test_split(all_SNR, test_size=0.2,)\n",
    "all_SNR_train.iloc[:,-n_points:] = normalize_min_max_by_row(\n",
    "    all_SNR_train.iloc[:,-n_points:]\n",
    "    )\n",
    "all_SNR_test.iloc[:,-n_points:] = normalize_min_max_by_row(\n",
    "    all_SNR_test.iloc[:,-n_points:]\n",
    "    )\n",
    "all_SNR_X_train = all_SNR_train.iloc[:, -n_points:]\n",
    "all_SNR_y_train = all_SNR_train[\"label\"].astype(int)\n",
    "all_SNR_X_test = all_SNR_test.iloc[:, -n_points:]\n",
    "all_SNR_y_test = all_SNR_test[\"label\"].astype(int)\n"
   ]
  },
  {
   "cell_type": "markdown",
   "metadata": {},
   "source": [
    "### rf"
   ]
  },
  {
   "cell_type": "code",
   "execution_count": 22,
   "metadata": {},
   "outputs": [
    {
     "name": "stderr",
     "output_type": "stream",
     "text": [
      "c:\\Users\\santi\\anaconda3\\Lib\\site-packages\\pandas\\core\\algorithms.py:1814: DeprecationWarning: is_sparse is deprecated and will be removed in a future version. Check `isinstance(dtype, pd.SparseDtype)` instead.\n",
      "  return lib.map_infer(values, mapper, convert=convert)\n",
      "c:\\Users\\santi\\anaconda3\\Lib\\site-packages\\sklearn\\utils\\validation.py:605: DeprecationWarning: is_sparse is deprecated and will be removed in a future version. Check `isinstance(dtype, pd.SparseDtype)` instead.\n",
      "  if is_sparse(pd_dtype):\n",
      "c:\\Users\\santi\\anaconda3\\Lib\\site-packages\\sklearn\\utils\\validation.py:614: DeprecationWarning: is_sparse is deprecated and will be removed in a future version. Check `isinstance(dtype, pd.SparseDtype)` instead.\n",
      "  if is_sparse(pd_dtype) or not is_extension_array_dtype(pd_dtype):\n",
      "c:\\Users\\santi\\anaconda3\\Lib\\site-packages\\sklearn\\utils\\validation.py:605: DeprecationWarning: is_sparse is deprecated and will be removed in a future version. Check `isinstance(dtype, pd.SparseDtype)` instead.\n",
      "  if is_sparse(pd_dtype):\n",
      "c:\\Users\\santi\\anaconda3\\Lib\\site-packages\\sklearn\\utils\\validation.py:614: DeprecationWarning: is_sparse is deprecated and will be removed in a future version. Check `isinstance(dtype, pd.SparseDtype)` instead.\n",
      "  if is_sparse(pd_dtype) or not is_extension_array_dtype(pd_dtype):\n"
     ]
    },
    {
     "data": {
      "text/html": [
       "<style>#sk-container-id-1 {color: black;background-color: white;}#sk-container-id-1 pre{padding: 0;}#sk-container-id-1 div.sk-toggleable {background-color: white;}#sk-container-id-1 label.sk-toggleable__label {cursor: pointer;display: block;width: 100%;margin-bottom: 0;padding: 0.3em;box-sizing: border-box;text-align: center;}#sk-container-id-1 label.sk-toggleable__label-arrow:before {content: \"▸\";float: left;margin-right: 0.25em;color: #696969;}#sk-container-id-1 label.sk-toggleable__label-arrow:hover:before {color: black;}#sk-container-id-1 div.sk-estimator:hover label.sk-toggleable__label-arrow:before {color: black;}#sk-container-id-1 div.sk-toggleable__content {max-height: 0;max-width: 0;overflow: hidden;text-align: left;background-color: #f0f8ff;}#sk-container-id-1 div.sk-toggleable__content pre {margin: 0.2em;color: black;border-radius: 0.25em;background-color: #f0f8ff;}#sk-container-id-1 input.sk-toggleable__control:checked~div.sk-toggleable__content {max-height: 200px;max-width: 100%;overflow: auto;}#sk-container-id-1 input.sk-toggleable__control:checked~label.sk-toggleable__label-arrow:before {content: \"▾\";}#sk-container-id-1 div.sk-estimator input.sk-toggleable__control:checked~label.sk-toggleable__label {background-color: #d4ebff;}#sk-container-id-1 div.sk-label input.sk-toggleable__control:checked~label.sk-toggleable__label {background-color: #d4ebff;}#sk-container-id-1 input.sk-hidden--visually {border: 0;clip: rect(1px 1px 1px 1px);clip: rect(1px, 1px, 1px, 1px);height: 1px;margin: -1px;overflow: hidden;padding: 0;position: absolute;width: 1px;}#sk-container-id-1 div.sk-estimator {font-family: monospace;background-color: #f0f8ff;border: 1px dotted black;border-radius: 0.25em;box-sizing: border-box;margin-bottom: 0.5em;}#sk-container-id-1 div.sk-estimator:hover {background-color: #d4ebff;}#sk-container-id-1 div.sk-parallel-item::after {content: \"\";width: 100%;border-bottom: 1px solid gray;flex-grow: 1;}#sk-container-id-1 div.sk-label:hover label.sk-toggleable__label {background-color: #d4ebff;}#sk-container-id-1 div.sk-serial::before {content: \"\";position: absolute;border-left: 1px solid gray;box-sizing: border-box;top: 0;bottom: 0;left: 50%;z-index: 0;}#sk-container-id-1 div.sk-serial {display: flex;flex-direction: column;align-items: center;background-color: white;padding-right: 0.2em;padding-left: 0.2em;position: relative;}#sk-container-id-1 div.sk-item {position: relative;z-index: 1;}#sk-container-id-1 div.sk-parallel {display: flex;align-items: stretch;justify-content: center;background-color: white;position: relative;}#sk-container-id-1 div.sk-item::before, #sk-container-id-1 div.sk-parallel-item::before {content: \"\";position: absolute;border-left: 1px solid gray;box-sizing: border-box;top: 0;bottom: 0;left: 50%;z-index: -1;}#sk-container-id-1 div.sk-parallel-item {display: flex;flex-direction: column;z-index: 1;position: relative;background-color: white;}#sk-container-id-1 div.sk-parallel-item:first-child::after {align-self: flex-end;width: 50%;}#sk-container-id-1 div.sk-parallel-item:last-child::after {align-self: flex-start;width: 50%;}#sk-container-id-1 div.sk-parallel-item:only-child::after {width: 0;}#sk-container-id-1 div.sk-dashed-wrapped {border: 1px dashed gray;margin: 0 0.4em 0.5em 0.4em;box-sizing: border-box;padding-bottom: 0.4em;background-color: white;}#sk-container-id-1 div.sk-label label {font-family: monospace;font-weight: bold;display: inline-block;line-height: 1.2em;}#sk-container-id-1 div.sk-label-container {text-align: center;}#sk-container-id-1 div.sk-container {/* jupyter's `normalize.less` sets `[hidden] { display: none; }` but bootstrap.min.css set `[hidden] { display: none !important; }` so we also need the `!important` here to be able to override the default hidden behavior on the sphinx rendered scikit-learn.org. See: https://github.com/scikit-learn/scikit-learn/issues/21755 */display: inline-block !important;position: relative;}#sk-container-id-1 div.sk-text-repr-fallback {display: none;}</style><div id=\"sk-container-id-1\" class=\"sk-top-container\"><div class=\"sk-text-repr-fallback\"><pre>RandomForestClassifier(criterion=&#x27;entropy&#x27;, max_depth=200, min_samples_leaf=3,\n",
       "                       n_estimators=400, n_jobs=-1)</pre><b>In a Jupyter environment, please rerun this cell to show the HTML representation or trust the notebook. <br />On GitHub, the HTML representation is unable to render, please try loading this page with nbviewer.org.</b></div><div class=\"sk-container\" hidden><div class=\"sk-item\"><div class=\"sk-estimator sk-toggleable\"><input class=\"sk-toggleable__control sk-hidden--visually\" id=\"sk-estimator-id-1\" type=\"checkbox\" checked><label for=\"sk-estimator-id-1\" class=\"sk-toggleable__label sk-toggleable__label-arrow\">RandomForestClassifier</label><div class=\"sk-toggleable__content\"><pre>RandomForestClassifier(criterion=&#x27;entropy&#x27;, max_depth=200, min_samples_leaf=3,\n",
       "                       n_estimators=400, n_jobs=-1)</pre></div></div></div></div></div>"
      ],
      "text/plain": [
       "RandomForestClassifier(criterion='entropy', max_depth=200, min_samples_leaf=3,\n",
       "                       n_estimators=400, n_jobs=-1)"
      ]
     },
     "execution_count": 22,
     "metadata": {},
     "output_type": "execute_result"
    }
   ],
   "source": [
    "all_SNR_rf = RandomForestClassifier(\n",
    "    n_estimators=400,\n",
    "    max_depth=200,\n",
    "    criterion=\"entropy\",\n",
    "    min_samples_leaf=3,\n",
    "    n_jobs=-1\n",
    "                            )\n",
    "\n",
    "all_SNR_rf.fit(all_SNR_X_train, all_SNR_y_train)\n",
    "joblib.dump(all_SNR_rf, \"O3_rf.joblib\")"
   ]
  },
  {
   "cell_type": "code",
   "execution_count": 13,
   "metadata": {},
   "outputs": [
    {
     "name": "stdout",
     "output_type": "stream",
     "text": [
      "[[20736   202]\n",
      " [ 4178 13884]]\n",
      "              precision    recall  f1-score   support\n",
      "\n",
      "           0       0.83      0.99      0.90     20938\n",
      "           1       0.99      0.77      0.86     18062\n",
      "\n",
      "    accuracy                           0.89     39000\n",
      "   macro avg       0.91      0.88      0.88     39000\n",
      "weighted avg       0.90      0.89      0.89     39000\n",
      "\n"
     ]
    },
    {
     "data": {
      "image/png": "[encoded data removed]",
      "text/plain": [
       "<Figure size 800x800 with 2 Axes>"
      ]
     },
     "metadata": {},
     "output_type": "display_data"
    }
   ],
   "source": [
    "remove_warnings()\n",
    "\n",
    "all_SNR_probabilites= all_SNR_rf.predict_proba(all_SNR_X_test)[:, 1]\n",
    "all_SNR_threshold= 0.45\n",
    "all_SNR_probabilites= (all_SNR_probabilites > all_SNR_threshold).astype(int)\n",
    "all_SNR_test[\"pred\"] = all_SNR_probabilites\n",
    "all_SNR_test[\"score\"]= all_SNR_probabilites\n",
    "\n",
    "print(confusion_matrix(all_SNR_y_test, all_SNR_probabilites))\n",
    "print(classification_report(all_SNR_y_test, all_SNR_probabilites))\n",
    "\n",
    "plot_confusion_matrix(\n",
    "    all_SNR_y_test, all_SNR_probabilites,\n",
    "    labels=[1,0], display_labels=[\"$O_3$\", \"No $O_3$\"],\n",
    "    title=\"Confusion Matrix for $O_3$ Detection\\nmultiple SNR\"\n",
    ")"
   ]
  },
  {
   "cell_type": "markdown",
   "metadata": {},
   "source": [
    "### scores per mix"
   ]
  },
  {
   "cell_type": "code",
   "execution_count": 14,
   "metadata": {},
   "outputs": [
    {
     "name": "stdout",
     "output_type": "stream",
     "text": [
      "label\n",
      "0    2093\n",
      "1    1892\n",
      "Name: count, dtype: int64\n",
      "label\n",
      "0    2093\n",
      "1    1870\n",
      "Name: count, dtype: int64\n",
      "label\n",
      "0    2093\n",
      "1    1782\n",
      "Name: count, dtype: int64\n",
      "label\n",
      "0    2093\n",
      "1    1783\n",
      "Name: count, dtype: int64\n",
      "label\n",
      "0    2093\n",
      "1    1821\n",
      "Name: count, dtype: int64\n",
      "label\n",
      "0    2093\n",
      "1    1760\n",
      "Name: count, dtype: int64\n",
      "label\n",
      "0    2093\n",
      "1    1783\n",
      "Name: count, dtype: int64\n",
      "label\n",
      "0    2093\n",
      "1    1773\n",
      "Name: count, dtype: int64\n",
      "label\n",
      "0    2093\n",
      "1    1779\n",
      "Name: count, dtype: int64\n",
      "label\n",
      "0    2093\n",
      "1    1819\n",
      "Name: count, dtype: int64\n",
      "mix ratio:O3=1e-10\n",
      "[[2067   26]\n",
      " [1214  678]]\n",
      "mean score of :O3=1e-10 is 0.3583509513742072\n",
      "mix ratio:O3=1e-09\n",
      "[[2074   19]\n",
      " [1222  648]]\n",
      "mean score of :O3=1e-09 is 0.34652406417112297\n",
      "mix ratio:O3=1e-08\n",
      "[[2072   21]\n",
      " [ 918  864]]\n",
      "mean score of :O3=1e-08 is 0.48484848484848486\n",
      "mix ratio:O3=1e-07\n",
      "[[2074   19]\n",
      " [ 396 1387]]\n",
      "mean score of :O3=1e-07 is 0.7779024116657319\n",
      "mix ratio:O3=1e-06\n",
      "[[2068   25]\n",
      " [ 158 1663]]\n",
      "mean score of :O3=1e-06 is 0.9132344865458539\n",
      "mix ratio:O3=1e-05\n",
      "[[2072   21]\n",
      " [  98 1662]]\n",
      "mean score of :O3=1e-05 is 0.9443181818181818\n",
      "mix ratio:O3=0.0001\n",
      "[[2074   19]\n",
      " [  66 1717]]\n",
      "mean score of :O3=0.0001 is 0.9629837352776219\n",
      "mix ratio:O3=0.001\n",
      "[[2069   24]\n",
      " [  43 1730]]\n",
      "mean score of :O3=0.001 is 0.975747320924986\n",
      "mix ratio:O3=0.01\n",
      "[[2083   10]\n",
      " [  37 1742]]\n",
      "mean score of :O3=0.01 is 0.9792017987633502\n",
      "mix ratio:O3=0.1\n",
      "[[2075   18]\n",
      " [  26 1793]]\n",
      "mean score of :O3=0.1 is 0.9857064321055525\n"
     ]
    }
   ],
   "source": [
    "all_SNR_test_by_atmO3=[[] for i in range(10)]\n",
    "\n",
    "for i, j in enumerate(range(-10,-0)):\n",
    "    all_SNR_test_by_atmO3[i] = all_SNR_test[all_SNR_test[\"atm O3\"]==j]\n",
    "    co2 = int(len(all_SNR_test[all_SNR_test[\"label\"]==0])/10)\n",
    "    all_SNR_test_by_atmO3[i] = pd.concat([all_SNR_test_by_atmO3[i],\n",
    "                                      all_SNR_test[all_SNR_test[\"label\"]==0][i*co2:(i+1)*co2]])\n",
    "    print(all_SNR_test_by_atmO3[i][\"label\"].value_counts())\n",
    "    \n",
    "    \n",
    "all_SNR_f1 = np.zeros(len(mix_ratios))\n",
    "all_SNR_recall = np.zeros(len(mix_ratios))\n",
    "all_SNR_precision = np.zeros(len(mix_ratios))\n",
    "all_SNR_score = np.zeros(len(mix_ratios))\n",
    "\n",
    "for j in range(len(mix_ratios)):\n",
    "                \n",
    "                all_SNR_f1[j] = f1_score(\n",
    "                    all_SNR_test_by_atmO3[j][\"label\"].astype(int),\n",
    "                    all_SNR_test_by_atmO3[j][\"pred\"].astype(int)\n",
    "                    )\n",
    "                \n",
    "                all_SNR_recall[j] = recall_score(\n",
    "                    all_SNR_test_by_atmO3[j][\"label\"].astype(int),\n",
    "                    all_SNR_test_by_atmO3[j][\"pred\"].astype(int)\n",
    "                    )\n",
    "                \n",
    "                all_SNR_precision[j] = precision_score(\n",
    "                    all_SNR_test_by_atmO3[j][\"label\"].astype(int),\n",
    "                    all_SNR_test_by_atmO3[j][\"pred\"].astype(int)\n",
    "                    )\n",
    "    \n",
    "                print(f\"mix ratio:O3={mix_ratios[j]}\")\n",
    "                print(confusion_matrix(all_SNR_test_by_atmO3[j][\"label\"].astype(int),\n",
    "                                    all_SNR_test_by_atmO3[j][\"pred\"].astype(int)))\n",
    "                \n",
    "                print(f\"mean score of :O3={mix_ratios[j ]} is {all_SNR_test_by_atmO3[j][all_SNR_test_by_atmO3[j]['label']==1]['score'].mean()}\")\n",
    "                all_SNR_score[j] = all_SNR_test_by_atmO3[j][\n",
    "                    all_SNR_test_by_atmO3[j]['label']==1\n",
    "                    ]['score'].mean()"
   ]
  },
  {
   "cell_type": "markdown",
   "metadata": {},
   "source": [
    "## Validation"
   ]
  },
  {
   "cell_type": "code",
   "execution_count": 15,
   "metadata": {},
   "outputs": [
    {
     "data": {
      "text/plain": [
       "label\n",
       "0    30000\n",
       "1    30000\n",
       "Name: count, dtype: int64"
      ]
     },
     "execution_count": 15,
     "metadata": {},
     "output_type": "execute_result"
    }
   ],
   "source": [
    "SNR = 1\n",
    "\n",
    "SNRval_all_CO2 = mrex.generate_df_SNR_noise(df=CO2_data,\n",
    "                                        n_repeat=10000,\n",
    "                                        SNR=SNR)\n",
    "\n",
    "SNRval_all_O3 = mrex.generate_df_SNR_noise(df=O3_data,\n",
    "                                        n_repeat=1000,\n",
    "                                        SNR=SNR)\n",
    "\n",
    "SNRval_all_CO2_O3=pd.concat([SNRval_all_CO2,SNRval_all_O3],ignore_index=True)\n",
    "\n",
    "#SNRval_all_CO2_O3=SNRval_all_CO2_O3[SNRval_all_CO2_O3[\"atm temperature\"]==200]\n",
    "SNRval_all_CO2_O3[\"label\"].value_counts()\n",
    "\n"
   ]
  },
  {
   "cell_type": "code",
   "execution_count": 16,
   "metadata": {},
   "outputs": [],
   "source": [
    "SNRval_all_test = SNRval_all_CO2_O3\n",
    "SNRval_all_test.iloc[:,-n_points:]=normalize_min_max_by_row(SNRval_all_test.iloc[:,-n_points:])\n",
    "SNRval_all_X_test = SNRval_all_test.iloc[:, -n_points:]\n",
    "SNRval_all_y_test = SNRval_all_test[\"label\"].astype(int)"
   ]
  },
  {
   "cell_type": "code",
   "execution_count": 17,
   "metadata": {},
   "outputs": [
    {
     "name": "stdout",
     "output_type": "stream",
     "text": [
      "[[20581  9419]\n",
      " [ 9488 20512]]\n",
      "              precision    recall  f1-score   support\n",
      "\n",
      "           0       0.68      0.69      0.69     30000\n",
      "           1       0.69      0.68      0.68     30000\n",
      "\n",
      "    accuracy                           0.68     60000\n",
      "   macro avg       0.68      0.68      0.68     60000\n",
      "weighted avg       0.68      0.68      0.68     60000\n",
      "\n"
     ]
    },
    {
     "data": {
      "image/png": "[encoded data removed]",
      "text/plain": [
       "<Figure size 800x800 with 2 Axes>"
      ]
     },
     "metadata": {},
     "output_type": "display_data"
    }
   ],
   "source": [
    "remove_warnings()\n",
    "SNRval_all_probabilities = all_SNR_rf.predict_proba(SNRval_all_X_test)[:, 1]\n",
    "threshold = 0.34\n",
    "SNRval_all_y_pred = (SNRval_all_probabilities > threshold).astype(int)\n",
    "SNRval_all_test[\"pred\"] = SNRval_all_y_pred\n",
    "SNRval_all_test[\"score\"] = SNRval_all_probabilities\n",
    "\n",
    "print(confusion_matrix(SNRval_all_y_test, SNRval_all_y_pred))\n",
    "print(classification_report(SNRval_all_y_test, SNRval_all_y_pred))\n",
    "\n",
    "plot_confusion_matrix(\n",
    "    SNRval_all_y_test, SNRval_all_y_pred,\n",
    "    labels=[1,0], display_labels=[\"$O_3$\", \"No $O_3$\"],\n",
    "    title=f\"Confusion Matrix for $O_3$ Detection\\n(SNR={SNR})\"\n",
    ")"
   ]
  },
  {
   "cell_type": "code",
   "execution_count": 18,
   "metadata": {},
   "outputs": [
    {
     "name": "stdout",
     "output_type": "stream",
     "text": [
      "label\n",
      "1    3000\n",
      "0    3000\n",
      "Name: count, dtype: int64\n",
      "label\n",
      "1    3000\n",
      "0    3000\n",
      "Name: count, dtype: int64\n",
      "label\n",
      "1    3000\n",
      "0    3000\n",
      "Name: count, dtype: int64\n",
      "label\n",
      "1    3000\n",
      "0    3000\n",
      "Name: count, dtype: int64\n",
      "label\n",
      "1    3000\n",
      "0    3000\n",
      "Name: count, dtype: int64\n",
      "label\n",
      "1    3000\n",
      "0    3000\n",
      "Name: count, dtype: int64\n",
      "label\n",
      "1    3000\n",
      "0    3000\n",
      "Name: count, dtype: int64\n",
      "label\n",
      "1    3000\n",
      "0    3000\n",
      "Name: count, dtype: int64\n",
      "label\n",
      "1    3000\n",
      "0    3000\n",
      "Name: count, dtype: int64\n",
      "label\n",
      "1    3000\n",
      "0    3000\n",
      "Name: count, dtype: int64\n",
      "mix ratio:O3=1e-10\n",
      "[[2079  921]\n",
      " [2080  920]]\n",
      "mean score of :O3=1e-10 is 0.3145340593598438\n",
      "mix ratio:O3=1e-09\n",
      "[[2052  948]\n",
      " [2073  927]]\n",
      "mean score of :O3=1e-09 is 0.31545815753588724\n",
      "mix ratio:O3=1e-08\n",
      "[[2073  927]\n",
      " [1984 1016]]\n",
      "mean score of :O3=1e-08 is 0.3203044665103415\n",
      "mix ratio:O3=1e-07\n",
      "[[2048  952]\n",
      " [1612 1388]]\n",
      "mean score of :O3=1e-07 is 0.3399250572001707\n",
      "mix ratio:O3=1e-06\n",
      "[[2072  928]\n",
      " [1006 1994]]\n",
      "mean score of :O3=1e-06 is 0.3774869579514304\n",
      "mix ratio:O3=1e-05\n",
      "[[2085  915]\n",
      " [ 398 2602]]\n",
      "mean score of :O3=1e-05 is 0.43234117921892923\n",
      "mix ratio:O3=0.0001\n",
      "[[2066  934]\n",
      " [ 177 2823]]\n",
      "mean score of :O3=0.0001 is 0.46589551644158717\n",
      "mix ratio:O3=0.001\n",
      "[[2057  943]\n",
      " [  86 2914]]\n",
      "mean score of :O3=0.001 is 0.4825435869513291\n",
      "mix ratio:O3=0.01\n",
      "[[2023  977]\n",
      " [  46 2954]]\n",
      "mean score of :O3=0.01 is 0.49991982813756664\n",
      "mix ratio:O3=0.1\n",
      "[[2026  974]\n",
      " [  26 2974]]\n",
      "mean score of :O3=0.1 is 0.5144686253353128\n"
     ]
    },
    {
     "data": {
      "text/plain": [
       "Text(0.5, 1.0, 'Scores for $O_3$ Detection\\n(SNR=1)')"
      ]
     },
     "execution_count": 18,
     "metadata": {},
     "output_type": "execute_result"
    },
    {
     "data": {
      "image/png": "[encoded data removed]",
      "text/plain": [
       "<Figure size 640x480 with 1 Axes>"
      ]
     },
     "metadata": {},
     "output_type": "display_data"
    }
   ],
   "source": [
    "SNRval_all_test_by_atmO3=[[] for i in range(10)]\n",
    "\n",
    "for i, j in enumerate(range(-10,-0)):\n",
    "    SNRval_all_test_by_atmO3[i]=SNRval_all_test[SNRval_all_test[\"atm O3\"]==j]\n",
    "    co2=int(len(SNRval_all_test[SNRval_all_test[\"label\"]==0])/10)\n",
    "    SNRval_all_test_by_atmO3[i]=pd.concat([SNRval_all_test_by_atmO3[i],\n",
    "                                      SNRval_all_test[SNRval_all_test[\"label\"]==0][i*co2:(i+1)*co2]])\n",
    "    print(SNRval_all_test_by_atmO3[i][\"label\"].value_counts())\n",
    "    \n",
    "SNRval_all_f1 = np.zeros(len(mix_ratios))\n",
    "SNRval_all_recall = np.zeros(len(mix_ratios))\n",
    "SNRval_all_precision = np.zeros(len(mix_ratios))\n",
    "SNRval_all_score = np.zeros(len(mix_ratios))\n",
    "\n",
    "for j in range(len(mix_ratios)):\n",
    "                    \n",
    "                    SNRval_all_f1[j] = f1_score(\n",
    "                        SNRval_all_test_by_atmO3[j][\"label\"].astype(int),\n",
    "                        SNRval_all_test_by_atmO3[j][\"pred\"].astype(int)\n",
    "                        )\n",
    "                    \n",
    "                    SNRval_all_recall[j] = recall_score(\n",
    "                        SNRval_all_test_by_atmO3[j][\"label\"].astype(int),\n",
    "                        SNRval_all_test_by_atmO3[j][\"pred\"].astype(int)\n",
    "                        )\n",
    "                    \n",
    "                    SNRval_all_precision[j]=precision_score(\n",
    "                        SNRval_all_test_by_atmO3[j][\"label\"].astype(int),\n",
    "                        SNRval_all_test_by_atmO3[j][\"pred\"].astype(int)\n",
    "                        )\n",
    "                    \n",
    "                    print(f\"mix ratio:O3={mix_ratios[j]}\")\n",
    "                    print(confusion_matrix(SNRval_all_test_by_atmO3[j][\"label\"].astype(int),\n",
    "                                        SNRval_all_test_by_atmO3[j][\"pred\"].astype(int)))\n",
    "                    \n",
    "                    print(f\"mean score of :O3={mix_ratios[j ]} is {SNRval_all_test_by_atmO3[j][SNRval_all_test_by_atmO3[j]['label']==1]['score'].mean()}\")\n",
    "                    SNRval_all_score[j] = SNRval_all_test_by_atmO3[j][\n",
    "                        SNRval_all_test_by_atmO3[j]['label']==1\n",
    "                        ]['score'].mean()\n",
    "                    \n",
    "plt.figure()\n",
    "plt.plot(mix_ratios,SNRval_all_score,label=\"mean score of $O_3$\")\n",
    "plt.plot(mix_ratios,SNRval_all_f1,label=\"f1\")\n",
    "plt.plot(mix_ratios,SNRval_all_recall,label=\"recall\")\n",
    "plt.plot(mix_ratios,SNRval_all_precision,label=\"precision\")\n",
    "\n",
    "plt.xlabel(\"mix ratio\")\n",
    "plt.xscale(\"log\")\n",
    "plt.ylabel(\"score\")\n",
    "\n",
    "plt.legend()\n",
    "plt.title(f\"Scores for $O_3$ Detection\\n(SNR={SNR})\")"
   ]
  }
 ],
 "metadata": {
  "kernelspec": {
   "display_name": "base",
   "language": "python",
   "name": "python3"
  },
  "language_info": {
   "codemirror_mode": {
    "name": "ipython",
    "version": 3
   },
   "file_extension": ".py",
   "mimetype": "text/x-python",
   "name": "python",
   "nbconvert_exporter": "python",
   "pygments_lexer": "ipython3",
   "version": "3.11.7"
  }
 },
 "nbformat": 4,
 "nbformat_minor": 2
}
