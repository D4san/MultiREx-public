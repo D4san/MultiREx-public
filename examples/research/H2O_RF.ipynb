{
 "cells": [
  {
   "cell_type": "code",
   "execution_count": null,
   "metadata": {},
   "outputs": [],
   "source": [
    "import multirex as mrex\n",
    "import matplotlib.pyplot as plt\n",
    "import seaborn as sns\n",
    "import numpy as np\n",
    "import sys \n",
    "import pandas as pd\n",
    "from tqdm import tqdm\n",
    "\n",
    "import matplotlib.pyplot as plt\n",
    "import matplotlib.ticker as ticker\n",
    "\n",
    "\n",
    "from sklearn.model_selection import train_test_split\n",
    "from sklearn.ensemble import RandomForestClassifier\n",
    "from sklearn.metrics import accuracy_score\n",
    "from sklearn.metrics import confusion_matrix\n",
    "from sklearn.metrics import  ConfusionMatrixDisplay\n",
    "from sklearn.metrics import classification_report\n",
    "from sklearn.metrics import accuracy_score, f1_score, recall_score, precision_score\n",
    "\n",
    "%matplotlib inline\n",
    "waves=np.loadtxt(\"waves.txt\")\n",
    "n_points = len(waves)"
   ]
  },
  {
   "cell_type": "code",
   "execution_count": null,
   "metadata": {},
   "outputs": [],
   "source": [
    "# Función para normalizar por filas con Min-Max\n",
    "def normalize_min_max_by_row(df):\n",
    "    min_by_row = df.min(axis=1)\n",
    "    max_by_row = df.max(axis=1)\n",
    "    range_by_row = max_by_row - min_by_row\n",
    "    normalized = (df.sub(min_by_row, axis=0)).div(range_by_row, axis=0)\n",
    "    normalized[range_by_row == 0] = 0  \n",
    "    return normalized\n",
    "\n",
    "def plot_confusion_matrix(y_test, y_pred, labels, display_labels, title):\n",
    "    \"\"\"\n",
    "    Función para calcular y mostrar la matriz de confusión con etiquetas descriptivas y un título personalizado.\n",
    "\n",
    "    Parámetros:\n",
    "    - y_test: Array con los valores reales.\n",
    "    - y_pred: Array con las predicciones del modelo.\n",
    "    - labels: Lista de las etiquetas de clase en el orden en que deben ser tratadas.\n",
    "    - display_labels: Lista con los nombres descriptivos para las etiquetas de las clases para visualización.\n",
    "    - title: String con el título para el gráfico de la matriz de confusión.\n",
    "    \"\"\"\n",
    "    cm = confusion_matrix(y_test, y_pred, labels=labels, normalize='true')\n",
    "\n",
    "    fig, ax = plt.subplots(figsize=(8, 8))\n",
    "    disp = ConfusionMatrixDisplay(confusion_matrix=cm, display_labels=display_labels)\n",
    "    disp.plot(values_format=\".0%\", colorbar=True, ax=ax)\n",
    "    disp.im_.colorbar.remove() \n",
    "    disp.im_.set_clim(0, 1)  \n",
    "\n",
    "    # Crea manualmente la barra de colores con los límites correctos\n",
    "    cbar = fig.colorbar(disp.im_, ax=ax)\n",
    "    cbar.ax.yaxis.set_major_formatter(ticker.PercentFormatter(xmax=1))  \n",
    "    # Ajustes de formato y título\n",
    "    plt.subplots_adjust(left=0.1, right=0.9, top=0.9, bottom=0.1)\n",
    "    plt.title(title, fontsize=20)\n",
    "    plt.show()\n",
    "\n",
    "mix_ratios = np.logspace(-10,-1,10)\n"
   ]
  },
  {
   "cell_type": "markdown",
   "metadata": {},
   "source": [
    "## load data"
   ]
  },
  {
   "cell_type": "code",
   "execution_count": null,
   "metadata": {},
   "outputs": [],
   "source": [
    "import ast\n",
    "# Función para convertir string a lista\n",
    "def string_to_list(string):\n",
    "    return ast.literal_eval(string)\n",
    "\n",
    "\n",
    "H2O_data = pd.read_csv(\"spec_data/H2O_data.csv\")\n",
    "H2O_data[\"label\"] = H2O_data[\"label\"].apply(string_to_list)\n",
    "H2O_data[\"label\"] = H2O_data[\"label\"].apply(lambda x: x[2])\n",
    "H2O_data.data = H2O_data.iloc[:,-n_points:]\n",
    "H2O_data.params = H2O_data.iloc[:,:-n_points]\n",
    "\n",
    "CO2_data = pd.read_csv(\"spec_data/CO2_data.csv\")\n",
    "CO2_data[\"label\"] = CO2_data[\"label\"].apply(string_to_list)\n",
    "CO2_data[\"label\"] = CO2_data[\"label\"].apply(lambda x: x[2])\n",
    "CO2_data.data = CO2_data.iloc[:,-n_points:]\n",
    "CO2_data.params = CO2_data.iloc[:,:-n_points]\n"
   ]
  },
  {
   "cell_type": "markdown",
   "metadata": {},
   "source": [
    "## train data"
   ]
  },
  {
   "cell_type": "markdown",
   "metadata": {},
   "source": [
    "### SNR = 1"
   ]
  },
  {
   "cell_type": "code",
   "execution_count": null,
   "metadata": {},
   "outputs": [],
   "source": [
    "SNR1_CO2 = mrex.generate_df_SNR_noise(df=CO2_data,\n",
    "                                   n_repeat=10000,\n",
    "                                   SNR=1)\n",
    "\n",
    "SNR1_H2O = mrex.generate_df_SNR_noise(df=H2O_data,\n",
    "                                      n_repeat=500,\n",
    "                                      SNR=1)\n",
    "\n",
    "SNR1=pd.concat([SNR1_CO2,SNR1_H2O],ignore_index=True)"
   ]
  },
  {
   "cell_type": "markdown",
   "metadata": {},
   "source": [
    "### SNR = 3"
   ]
  },
  {
   "cell_type": "code",
   "execution_count": null,
   "metadata": {},
   "outputs": [],
   "source": [
    "SNR3_CO2 = mrex.generate_df_SNR_noise(df=CO2_data,\n",
    "                                   n_repeat=10000,\n",
    "                                   SNR=3)\n",
    "\n",
    "SNR3_H2O = mrex.generate_df_SNR_noise(df=H2O_data,\n",
    "                                      n_repeat=500,\n",
    "                                      SNR=3)\n",
    "SNR3=pd.concat([SNR3_CO2,SNR3_H2O],ignore_index=True)"
   ]
  },
  {
   "cell_type": "markdown",
   "metadata": {},
   "source": [
    "### SNR = 6"
   ]
  },
  {
   "cell_type": "code",
   "execution_count": null,
   "metadata": {},
   "outputs": [],
   "source": [
    "SNR6_CO2 = mrex.generate_df_SNR_noise(df=CO2_data,\n",
    "                                      n_repeat=10000,\n",
    "                                      SNR=6)\n",
    "\n",
    "SNR6_H2O = mrex.generate_df_SNR_noise(df=H2O_data,\n",
    "                                     n_repeat=500,\n",
    "                                     SNR=6)\n",
    "\n",
    "SNR6=pd.concat([SNR6_CO2,SNR6_H2O],ignore_index=True)"
   ]
  },
  {
   "cell_type": "markdown",
   "metadata": {},
   "source": [
    "### SNR = 10"
   ]
  },
  {
   "cell_type": "code",
   "execution_count": null,
   "metadata": {},
   "outputs": [],
   "source": [
    "SNR10_CO2 = mrex.generate_df_SNR_noise(df=CO2_data,\n",
    "                                        n_repeat=10000,\n",
    "                                        SNR=10)\n",
    "SNR10_H2O = mrex.generate_df_SNR_noise(df=H2O_data,\n",
    "                                        n_repeat=500,\n",
    "                                        SNR=10)\n",
    "\n",
    "SNR10=pd.concat([SNR10_CO2,SNR10_H2O],ignore_index=True)"
   ]
  },
  {
   "cell_type": "markdown",
   "metadata": {},
   "source": [
    "### SNR = 20"
   ]
  },
  {
   "cell_type": "code",
   "execution_count": null,
   "metadata": {},
   "outputs": [],
   "source": [
    "SNR20_CO2 = mrex.generate_df_SNR_noise(df=CO2_data,\n",
    "                                        n_repeat=10000,\n",
    "                                        SNR=20)\n",
    "\n",
    "SNR20_H2O = mrex.generate_df_SNR_noise(df=H2O_data,\n",
    "                                        n_repeat=500,\n",
    "                                        SNR=20)\n",
    "\n",
    "SNR20=pd.concat([SNR20_CO2,SNR20_H2O],ignore_index=True)"
   ]
  },
  {
   "cell_type": "markdown",
   "metadata": {},
   "source": [
    "### SNR = NaN"
   ]
  },
  {
   "cell_type": "code",
   "execution_count": null,
   "metadata": {},
   "outputs": [],
   "source": [
    "SNRnan_CO2 = mrex.generate_df_SNR_noise(df=CO2_data,\n",
    "                                        n_repeat=10000,\n",
    "                                        SNR=1e4)\n",
    "\n",
    "SNRnan_H2O = mrex.generate_df_SNR_noise(df=H2O_data,\n",
    "                                        n_repeat=1000,\n",
    "                                        SNR=1e4)\n",
    "\n",
    "SNRnan=pd.concat([SNRnan_CO2,SNRnan_H2O],ignore_index=True)"
   ]
  },
  {
   "cell_type": "markdown",
   "metadata": {},
   "source": [
    "## RF"
   ]
  },
  {
   "cell_type": "code",
   "execution_count": null,
   "metadata": {},
   "outputs": [],
   "source": [
    "SNRall = pd.concat([SNR1,SNR3,SNR6,SNR10,SNR20,SNRnan],ignore_index=True)\n",
    "\n",
    "print(SNRall[\"label\"].value_counts())\n",
    "\n",
    "SNRall_train, SNRall_test = train_test_split(SNRall, test_size=0.2,)\n",
    "SNRall_train.iloc[:,-n_points:]=normalize_min_max_by_row(SNRall_train.iloc[:,-n_points:])\n",
    "SNRall_X_train = SNRall_train.iloc[:, -n_points:]\n",
    "SNRall_y_train = SNRall_train[\"label\"].astype(int)\n"
   ]
  },
  {
   "cell_type": "code",
   "execution_count": null,
   "metadata": {},
   "outputs": [],
   "source": [
    "SNRall_rf = RandomForestClassifier(\n",
    "    n_estimators=400,\n",
    "    max_depth=200,\n",
    "    criterion=\"entropy\",\n",
    "    min_samples_leaf=3,\n",
    "    n_jobs=-1\n",
    "                            )\n",
    "\n",
    "SNRall_rf.fit(SNRall_X_train, SNRall_y_train) \n"
   ]
  },
  {
   "cell_type": "code",
   "execution_count": null,
   "metadata": {},
   "outputs": [],
   "source": [
    "import joblib\n",
    "\n",
    "joblib.dump(SNRall_rf, \"H2O_rf.joblib\")"
   ]
  },
  {
   "cell_type": "markdown",
   "metadata": {},
   "source": [
    "### Test"
   ]
  },
  {
   "cell_type": "code",
   "execution_count": null,
   "metadata": {},
   "outputs": [],
   "source": [
    "SNR = 1\n",
    "\n",
    "SNR_val_CO2 = mrex.generate_df_SNR_noise(df=CO2_data,\n",
    "                                        n_repeat=10000,\n",
    "                                        SNR=SNR)\n",
    "SNR_val_H2O = mrex.generate_df_SNR_noise(df=H2O_data,\n",
    "                                         n_repeat=1000,\n",
    "                                         SNR=SNR)\n",
    "SNR_val= pd.concat([SNR_val_CO2,SNR_val_H2O],ignore_index=True)\n",
    "\n",
    "SNR_val_test = SNR_val\n",
    "\n",
    "\n",
    "SNR_val_test.iloc[:,-n_points:]=normalize_min_max_by_row(SNR_val_test.iloc[:,-n_points:])\n",
    "\n",
    "SNR_val_X_test = SNR_val_test.iloc[:, -n_points:]\n",
    "SNR_val_y_test = SNR_val_test[\"label\"].astype(int)\n"
   ]
  },
  {
   "cell_type": "code",
   "execution_count": null,
   "metadata": {},
   "outputs": [],
   "source": [
    "SNR_val_predictions = SNRall_rf.predict_proba(SNR_val_X_test)[:, 1]\n",
    "threshold = 0.36\n",
    "SNR_val_y_pred = (SNR_val_predictions > threshold).astype(int)\n",
    "\n",
    "SNR_val_test[\"pred\"] = SNR_val_y_pred\n",
    "SNR_val_test[\"score\"] = SNR_val_predictions\n",
    "\n",
    "print(confusion_matrix(SNR_val_y_test, SNR_val_y_pred))\n",
    "print(classification_report(SNR_val_y_test, SNR_val_y_pred))\n",
    "\n",
    "plot_confusion_matrix(\n",
    "    SNR_val_y_test, SNR_val_y_pred,\n",
    "    labels=[1,0], display_labels=[\"$H_2O$\", \"No $H_2O$\"],\n",
    "    title=f\"Confusion Matrix for $H_2O$ Detection\\n(SNR={SNR})\"\n",
    ")"
   ]
  },
  {
   "cell_type": "code",
   "execution_count": null,
   "metadata": {},
   "outputs": [],
   "source": [
    "SNR_val_by_atmH2O=[[] for i in range(10)]\n",
    "\n",
    "for i, j in enumerate(range(-10,-0)):\n",
    "    SNR_val_by_atmH2O[i]=SNR_val_test[SNR_val_test[\"atm H2O\"]==j]\n",
    "    co2=int(len(SNR_val_test[SNR_val_test[\"label\"]==0])/10)\n",
    "    SNR_val_by_atmH2O[i]=pd.concat([SNR_val_by_atmH2O[i],\n",
    "                                      SNR_val_test[SNR_val_test[\"label\"]==0].sample(n=co2)])\n",
    "    \n",
    "SNR_val_f1 = np.zeros(len(mix_ratios))\n",
    "SNR_val_recall = np.zeros(len(mix_ratios))\n",
    "SNR_val_precision = np.zeros(len(mix_ratios))\n",
    "SNR_val_score = np.zeros(len(mix_ratios))\n",
    "\n",
    "for j in range(len(mix_ratios)):\n",
    "                \n",
    "                SNR_val_f1[j] = f1_score(\n",
    "                    SNR_val_by_atmH2O[j][\"label\"].astype(int),\n",
    "                    SNR_val_by_atmH2O[j][\"pred\"].astype(int)\n",
    "                    )\n",
    "                \n",
    "                SNR_val_recall[j] = recall_score(\n",
    "                    SNR_val_by_atmH2O[j][\"label\"].astype(int),\n",
    "                    SNR_val_by_atmH2O[j][\"pred\"].astype(int)\n",
    "                    )\n",
    "                \n",
    "                SNR_val_precision[j]=precision_score(\n",
    "                    SNR_val_by_atmH2O[j][\"label\"].astype(int),\n",
    "                    SNR_val_by_atmH2O[j][\"pred\"].astype(int)\n",
    "                    )\n",
    "\n",
    "## plot scores\n",
    "plt.figure()\n",
    "plt.plot(mix_ratios,SNR_val_f1,label=\"f1\")\n",
    "plt.plot(mix_ratios,SNR_val_recall,label=\"recall\")\n",
    "plt.plot(mix_ratios,SNR_val_precision,label=\"precision\")\n",
    "\n",
    "plt.xlabel(\"mix ratio\")\n",
    "plt.xscale(\"log\")\n",
    "plt.ylabel(\"score\")\n",
    "\n",
    "plt.legend()\n",
    "plt.title(f\"Scores for $H_2O$ Detection\\n(SNR={SNR})\")"
   ]
  },
  {
   "cell_type": "code",
   "execution_count": null,
   "metadata": {},
   "outputs": [],
   "source": []
  }
 ],
 "metadata": {
  "kernelspec": {
   "display_name": "base",
   "language": "python",
   "name": "python3"
  },
  "language_info": {
   "codemirror_mode": {
    "name": "ipython",
    "version": 3
   },
   "file_extension": ".py",
   "mimetype": "text/x-python",
   "name": "python",
   "nbconvert_exporter": "python",
   "pygments_lexer": "ipython3",
   "version": "3.11.7"
  }
 },
 "nbformat": 4,
 "nbformat_minor": 2
}
